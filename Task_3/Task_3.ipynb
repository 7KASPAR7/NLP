{
 "cells": [
  {
   "cell_type": "code",
   "execution_count": 32,
   "metadata": {},
   "outputs": [],
   "source": [
    "from transformers import pipeline\n",
    "from random import seed, random\n",
    "from sentence_transformers import SentenceTransformer, util"
   ]
  },
  {
   "cell_type": "code",
   "execution_count": 33,
   "metadata": {},
   "outputs": [
    {
     "name": "stderr",
     "output_type": "stream",
     "text": [
      "Device set to use cpu\n"
     ]
    }
   ],
   "source": [
    "generator = pipeline('text-generation', model=\"gpt2\")"
   ]
  },
  {
   "cell_type": "code",
   "execution_count": 34,
   "metadata": {},
   "outputs": [],
   "source": [
    "def generate_sentences(input_sentence, sentences_num_to_generate):\n",
    "    generated_sentences = generator(input_sentence, max_new_tokens=30, num_return_sequences=sentences_num_to_generate)\n",
    "    return [sentence['generated_text'] for sentence in generated_sentences]"
   ]
  },
  {
   "cell_type": "code",
   "execution_count": 35,
   "metadata": {},
   "outputs": [],
   "source": [
    "def generate_sentences_with_drop(input_sentence, num_sentences, drop_count):\n",
    "    num_sentences_to_generate = num_sentences // drop_count\n",
    "    words = input_sentence.split()\n",
    "    similar_sentences = []\n",
    "    seed(11)\n",
    "    for i in range(0, drop_count):\n",
    "        sentence = ' '.join(words[j] for j in range (0, len(words)) if random() < 0.65)\n",
    "        print(i, sentence)\n",
    "        similar_sentences.extend(generate_sentences(sentence, num_sentences_to_generate))\n",
    "    return similar_sentences"
   ]
  },
  {
   "cell_type": "code",
   "execution_count": 36,
   "metadata": {},
   "outputs": [
    {
     "name": "stderr",
     "output_type": "stream",
     "text": [
      "Setting `pad_token_id` to `eos_token_id`:50256 for open-end generation.\n"
     ]
    },
    {
     "name": "stdout",
     "output_type": "stream",
     "text": [
      "0 After your remember to focus on maintaining a water balance\n"
     ]
    },
    {
     "name": "stderr",
     "output_type": "stream",
     "text": [
      "Setting `pad_token_id` to `eos_token_id`:50256 for open-end generation.\n"
     ]
    },
    {
     "name": "stdout",
     "output_type": "stream",
     "text": [
      "1 After remember maintaining a good water balance\n"
     ]
    },
    {
     "name": "stderr",
     "output_type": "stream",
     "text": [
      "Setting `pad_token_id` to `eos_token_id`:50256 for open-end generation.\n"
     ]
    },
    {
     "name": "stdout",
     "output_type": "stream",
     "text": [
      "2 After your workout, remember to on maintaining a water balance\n"
     ]
    },
    {
     "name": "stderr",
     "output_type": "stream",
     "text": [
      "Setting `pad_token_id` to `eos_token_id`:50256 for open-end generation.\n"
     ]
    },
    {
     "name": "stdout",
     "output_type": "stream",
     "text": [
      "3 to focus on maintaining good balance\n"
     ]
    },
    {
     "name": "stderr",
     "output_type": "stream",
     "text": [
      "Setting `pad_token_id` to `eos_token_id`:50256 for open-end generation.\n"
     ]
    },
    {
     "name": "stdout",
     "output_type": "stream",
     "text": [
      "4 workout, remember focus maintaining a good balance\n"
     ]
    },
    {
     "name": "stderr",
     "output_type": "stream",
     "text": [
      "Setting `pad_token_id` to `eos_token_id`:50256 for open-end generation.\n"
     ]
    },
    {
     "name": "stdout",
     "output_type": "stream",
     "text": [
      "5 After your to focus on maintaining good water balance\n"
     ]
    },
    {
     "name": "stderr",
     "output_type": "stream",
     "text": [
      "Setting `pad_token_id` to `eos_token_id`:50256 for open-end generation.\n"
     ]
    },
    {
     "name": "stdout",
     "output_type": "stream",
     "text": [
      "6 After workout, remember to focus on maintaining water\n"
     ]
    },
    {
     "name": "stderr",
     "output_type": "stream",
     "text": [
      "Setting `pad_token_id` to `eos_token_id`:50256 for open-end generation.\n"
     ]
    },
    {
     "name": "stdout",
     "output_type": "stream",
     "text": [
      "7 After your remember to on maintaining good water balance\n"
     ]
    },
    {
     "name": "stderr",
     "output_type": "stream",
     "text": [
      "Setting `pad_token_id` to `eos_token_id`:50256 for open-end generation.\n"
     ]
    },
    {
     "name": "stdout",
     "output_type": "stream",
     "text": [
      "8 After your workout, remember to focus maintaining a water balance\n"
     ]
    },
    {
     "name": "stderr",
     "output_type": "stream",
     "text": [
      "Setting `pad_token_id` to `eos_token_id`:50256 for open-end generation.\n"
     ]
    },
    {
     "name": "stdout",
     "output_type": "stream",
     "text": [
      "9 workout, remember on good water balance\n"
     ]
    },
    {
     "name": "stderr",
     "output_type": "stream",
     "text": [
      "Setting `pad_token_id` to `eos_token_id`:50256 for open-end generation.\n"
     ]
    },
    {
     "name": "stdout",
     "output_type": "stream",
     "text": [
      "10 After workout, to on maintaining a water balance\n"
     ]
    },
    {
     "name": "stderr",
     "output_type": "stream",
     "text": [
      "Setting `pad_token_id` to `eos_token_id`:50256 for open-end generation.\n"
     ]
    },
    {
     "name": "stdout",
     "output_type": "stream",
     "text": [
      "11 After workout, remember focus on maintaining a good water balance\n"
     ]
    },
    {
     "name": "stderr",
     "output_type": "stream",
     "text": [
      "Setting `pad_token_id` to `eos_token_id`:50256 for open-end generation.\n"
     ]
    },
    {
     "name": "stdout",
     "output_type": "stream",
     "text": [
      "12 After your workout, maintaining a good water\n"
     ]
    },
    {
     "name": "stderr",
     "output_type": "stream",
     "text": [
      "Setting `pad_token_id` to `eos_token_id`:50256 for open-end generation.\n"
     ]
    },
    {
     "name": "stdout",
     "output_type": "stream",
     "text": [
      "13 workout, remember to on a good\n"
     ]
    },
    {
     "name": "stderr",
     "output_type": "stream",
     "text": [
      "Setting `pad_token_id` to `eos_token_id`:50256 for open-end generation.\n"
     ]
    },
    {
     "name": "stdout",
     "output_type": "stream",
     "text": [
      "14 to a balance\n"
     ]
    },
    {
     "name": "stderr",
     "output_type": "stream",
     "text": [
      "Setting `pad_token_id` to `eos_token_id`:50256 for open-end generation.\n"
     ]
    },
    {
     "name": "stdout",
     "output_type": "stream",
     "text": [
      "15 After your workout, remember to focus good balance\n"
     ]
    },
    {
     "name": "stderr",
     "output_type": "stream",
     "text": [
      "Setting `pad_token_id` to `eos_token_id`:50256 for open-end generation.\n"
     ]
    },
    {
     "name": "stdout",
     "output_type": "stream",
     "text": [
      "16 After workout, to focus on maintaining good water\n"
     ]
    },
    {
     "name": "stderr",
     "output_type": "stream",
     "text": [
      "Setting `pad_token_id` to `eos_token_id`:50256 for open-end generation.\n"
     ]
    },
    {
     "name": "stdout",
     "output_type": "stream",
     "text": [
      "17 After your workout, to focus a water\n"
     ]
    },
    {
     "name": "stderr",
     "output_type": "stream",
     "text": [
      "Setting `pad_token_id` to `eos_token_id`:50256 for open-end generation.\n"
     ]
    },
    {
     "name": "stdout",
     "output_type": "stream",
     "text": [
      "18 After your focus on maintaining a good\n"
     ]
    },
    {
     "name": "stderr",
     "output_type": "stream",
     "text": [
      "Setting `pad_token_id` to `eos_token_id`:50256 for open-end generation.\n"
     ]
    },
    {
     "name": "stdout",
     "output_type": "stream",
     "text": [
      "19 workout, remember to focus on maintaining a good water\n",
      "After your remember to focus on maintaining a water balance. I always like to have three or four inches in my bottle to help with making sure my water keeps good for me and keeping the water pressure right\n",
      "------------------------------\n",
      "After remember maintaining a good water balance.\n",
      "\n",
      "\n",
      "The bottom of a pot is what the lid must be held in when it goes to use (I've only bought from China once).\n",
      "------------------------------\n",
      "After your workout, remember to on maintaining a water balance while stretching. The same rule applies to standing.\n",
      "\n",
      "Wipe: Stretch out over your back as you work.\n",
      "\n",
      "Back Squats\n",
      "\n",
      "------------------------------\n",
      "to focus on maintaining good balance.\n",
      "\n",
      "\"At the moment it's hard to define what is good balance,\" he said. \"In the process you have to try to bring\n",
      "------------------------------\n",
      "workout, remember focus maintaining a good balance of self/group and energy, as well as providing personal attention. There was the idea of the \"body clock\" in which one has time to\n",
      "------------------------------\n",
      "After your to focus on maintaining good water balance, you can focus on finding a balance between water weight and nutrient balance. In a more balanced system, the water weight is lower, and nutrient balance\n",
      "------------------------------\n",
      "After workout, remember to focus on maintaining water retention (so, for example, eating a bag of beans and a few vegetables daily, then checking the water level daily to confirm). If you are\n",
      "------------------------------\n",
      "After your remember to on maintaining good water balance between drinking (the recommended amount is 1 cup for every 6 to 8 ounces of water taken). I believe you need to be careful not to over-\n",
      "------------------------------\n",
      "After your workout, remember to focus maintaining a water balance, even when you are in a water run. Remember to take plenty of rest and let me remind you to take it and work hard to get to\n",
      "------------------------------\n",
      "workout, remember on good water balance training if you think your body doesn't feel it needs it. Just be sure to do the same exercise at least once every week to reduce your body\n",
      "------------------------------\n",
      "After workout, to on maintaining a water balance between the two sets of exercises, exercise #1 will provide sufficient energy to build muscle tissue. We'll use this technique to stimulate the muscles of the\n",
      "------------------------------\n",
      "After workout, remember focus on maintaining a good water balance – you'll lose blood flow.\n",
      "\n",
      "As the athletes in the gym get over the exhaustion, focus on finding the perfect spot in the ground to\n",
      "------------------------------\n",
      "After your workout, maintaining a good water intake will help support the body and the liver, and your metabolism increases rapidly.\n",
      "\n",
      "\"It can be done by mixing with warm water, and\n",
      "------------------------------\n",
      "workout, remember to on a good note.\n",
      "\n",
      "Now I'm sure I'm asking the right question at the same time. If you're trying to train your brain to think and\n",
      "------------------------------\n",
      "to a balance between social responsibility and economic growth. But some experts now call for such a deal to be struck by both the House and Senate before a vote on the\n",
      "------------------------------\n",
      "After your workout, remember to focus good balance on the top of your back. And to improve your hip mobility, you will have to work on moving through the motion (or not) as you\n",
      "------------------------------\n",
      "After workout, to focus on maintaining good water retention after strenuous activity, these two methods should continue until your water retention improves to a point where your water absorption is less than 60% (100\n",
      "------------------------------\n",
      "After your workout, to focus a water bottle, add 1-2 cups of water to the water bowl and place it in your hot tea tray. Heat up a cast iron skillet over medium\n",
      "------------------------------\n",
      "After your focus on maintaining a good overall health can be improved, what's the point of this particular diet?\n",
      "\n",
      "When looking for nutritional solutions that will get you over your health hump\n",
      "------------------------------\n",
      "workout, remember to focus on maintaining a good water balance on a daily basis. In addition, be sure to find an easy meal and snack. Make sure you always have a hydration system in place\n",
      "------------------------------\n"
     ]
    }
   ],
   "source": [
    "input_sentence = \"After your workout, remember to focus on maintaining a good water balance\"\n",
    "similar_sentences = generate_sentences_with_drop(input_sentence, 20, 20)\n",
    "\n",
    "for sentence in similar_sentences:\n",
    "    print(sentence)\n",
    "    print('---' * 10)"
   ]
  },
  {
   "cell_type": "code",
   "execution_count": 37,
   "metadata": {},
   "outputs": [],
   "source": [
    "model = SentenceTransformer('all-MiniLM-L6-v2')"
   ]
  },
  {
   "cell_type": "code",
   "execution_count": 38,
   "metadata": {},
   "outputs": [],
   "source": [
    "def generate_new_sentences(input_sentence, sentences_to_check, result_num):\n",
    "    encoded_input_sentence = model.encode(input_sentence, convert_to_tensor=True)\n",
    "    \n",
    "    encoded_sentence_to_check = model.encode(sentences_to_check, convert_to_tensor=True)\n",
    "    \n",
    "    scores = util.pytorch_cos_sim(encoded_input_sentence, encoded_sentence_to_check)\n",
    "    \n",
    "    sorted_scores = scores[0].topk(result_num).indices.tolist()\n",
    "    \n",
    "    new_sentences = [sentences_to_check[i] for i in sorted_scores]\n",
    "    \n",
    "    return new_sentences"
   ]
  },
  {
   "cell_type": "code",
   "execution_count": 39,
   "metadata": {},
   "outputs": [
    {
     "name": "stdout",
     "output_type": "stream",
     "text": [
      "After your workout, remember to focus maintaining a water balance, even when you are in a water run. Remember to take plenty of rest and let me remind you to take it and work hard to get to\n",
      "------------------------------\n",
      "After workout, remember to focus on maintaining water retention (so, for example, eating a bag of beans and a few vegetables daily, then checking the water level daily to confirm). If you are\n",
      "------------------------------\n",
      "After workout, to focus on maintaining good water retention after strenuous activity, these two methods should continue until your water retention improves to a point where your water absorption is less than 60% (100\n",
      "------------------------------\n"
     ]
    }
   ],
   "source": [
    "new_sentences = generate_new_sentences(input_sentence, similar_sentences, 3)\n",
    "\n",
    "for sentence in new_sentences:\n",
    "    print(sentence)\n",
    "    print('---' * 10)"
   ]
  }
 ],
 "metadata": {
  "kernelspec": {
   "display_name": "Python 3",
   "language": "python",
   "name": "python3"
  },
  "language_info": {
   "codemirror_mode": {
    "name": "ipython",
    "version": 3
   },
   "file_extension": ".py",
   "mimetype": "text/x-python",
   "name": "python",
   "nbconvert_exporter": "python",
   "pygments_lexer": "ipython3",
   "version": "3.9.13"
  }
 },
 "nbformat": 4,
 "nbformat_minor": 2
}
